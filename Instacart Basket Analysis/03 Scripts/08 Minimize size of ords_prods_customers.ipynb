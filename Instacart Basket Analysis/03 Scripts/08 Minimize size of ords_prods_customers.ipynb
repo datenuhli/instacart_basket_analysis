{
 "cells": [
  {
   "cell_type": "markdown",
   "id": "52e52f57",
   "metadata": {},
   "source": [
    "# 08 Minimizing the size of ords_prods_customers\n",
    "\n",
    "    01 Import data\n",
    "    02 Changing int64 in int 32\n",
    "    03 Changing float64 in float32\n",
    "    04 Checking changes\n",
    "    05 Export data frame"
   ]
  },
  {
   "cell_type": "markdown",
   "id": "5db1ca32-825e-4d6e-ae86-eaf08aed9513",
   "metadata": {
    "tags": []
   },
   "source": [
    "## 01 Import data"
   ]
  },
  {
   "cell_type": "code",
   "execution_count": 25,
   "id": "3811eb9d",
   "metadata": {
    "tags": []
   },
   "outputs": [],
   "source": [
    "# import libraries\n",
    "\n",
    "import pandas as pd\n",
    "import numpy as np\n",
    "import os"
   ]
  },
  {
   "cell_type": "code",
   "execution_count": 26,
   "id": "7b050aaa",
   "metadata": {
    "tags": []
   },
   "outputs": [
    {
     "ename": "MemoryError",
     "evalue": "",
     "output_type": "error",
     "traceback": [
      "\u001b[1;31m---------------------------------------------------------------------------\u001b[0m",
      "\u001b[1;31mMemoryError\u001b[0m                               Traceback (most recent call last)",
      "Cell \u001b[1;32mIn[26], line 3\u001b[0m\n\u001b[0;32m      1\u001b[0m \u001b[38;5;66;03m# Import dataframe\u001b[39;00m\n\u001b[0;32m      2\u001b[0m path \u001b[38;5;241m=\u001b[39m \u001b[38;5;124mr\u001b[39m\u001b[38;5;124m'\u001b[39m\u001b[38;5;124mC:\u001b[39m\u001b[38;5;124m\\\u001b[39m\u001b[38;5;124mUsers\u001b[39m\u001b[38;5;124m\\\u001b[39m\u001b[38;5;124mLenovo\u001b[39m\u001b[38;5;124m\\\u001b[39m\u001b[38;5;124mOneDrive\u001b[39m\u001b[38;5;124m\\\u001b[39m\u001b[38;5;124mDokumente\u001b[39m\u001b[38;5;124m\\\u001b[39m\u001b[38;5;124mCareerFoundry\u001b[39m\u001b[38;5;124m\\\u001b[39m\u001b[38;5;124mData Immersion\u001b[39m\u001b[38;5;124m\\\u001b[39m\u001b[38;5;124m4. Python Fundamentals for Data Analysts\u001b[39m\u001b[38;5;124m\\\u001b[39m\u001b[38;5;124mInstacart Basket Analysis - Kopie\u001b[39m\u001b[38;5;124m'\u001b[39m\n\u001b[1;32m----> 3\u001b[0m df \u001b[38;5;241m=\u001b[39m pd\u001b[38;5;241m.\u001b[39mread_pickle(os\u001b[38;5;241m.\u001b[39mpath\u001b[38;5;241m.\u001b[39mjoin(path,\u001b[38;5;124m'\u001b[39m\u001b[38;5;124m02 Data\u001b[39m\u001b[38;5;124m'\u001b[39m, \u001b[38;5;124m'\u001b[39m\u001b[38;5;124mPrepared Data\u001b[39m\u001b[38;5;124m'\u001b[39m, \u001b[38;5;124m'\u001b[39m\u001b[38;5;124mords_prods_customers.pkl\u001b[39m\u001b[38;5;124m'\u001b[39m))\n",
      "File \u001b[1;32m~\\anaconda3\\Lib\\site-packages\\pandas\\io\\pickle.py:196\u001b[0m, in \u001b[0;36mread_pickle\u001b[1;34m(filepath_or_buffer, compression, storage_options)\u001b[0m\n\u001b[0;32m    193\u001b[0m     \u001b[38;5;28;01mwith\u001b[39;00m warnings\u001b[38;5;241m.\u001b[39mcatch_warnings(record\u001b[38;5;241m=\u001b[39m\u001b[38;5;28;01mTrue\u001b[39;00m):\n\u001b[0;32m    194\u001b[0m         \u001b[38;5;66;03m# We want to silence any warnings about, e.g. moved modules.\u001b[39;00m\n\u001b[0;32m    195\u001b[0m         warnings\u001b[38;5;241m.\u001b[39msimplefilter(\u001b[38;5;124m\"\u001b[39m\u001b[38;5;124mignore\u001b[39m\u001b[38;5;124m\"\u001b[39m, \u001b[38;5;167;01mWarning\u001b[39;00m)\n\u001b[1;32m--> 196\u001b[0m         \u001b[38;5;28;01mreturn\u001b[39;00m pickle\u001b[38;5;241m.\u001b[39mload(handles\u001b[38;5;241m.\u001b[39mhandle)\n\u001b[0;32m    197\u001b[0m \u001b[38;5;28;01mexcept\u001b[39;00m excs_to_catch:\n\u001b[0;32m    198\u001b[0m     \u001b[38;5;66;03m# e.g.\u001b[39;00m\n\u001b[0;32m    199\u001b[0m     \u001b[38;5;66;03m#  \"No module named 'pandas.core.sparse.series'\"\u001b[39;00m\n\u001b[0;32m    200\u001b[0m     \u001b[38;5;66;03m#  \"Can't get attribute '__nat_unpickle' on <module 'pandas._libs.tslib\"\u001b[39;00m\n\u001b[0;32m    201\u001b[0m     \u001b[38;5;28;01mreturn\u001b[39;00m pc\u001b[38;5;241m.\u001b[39mload(handles\u001b[38;5;241m.\u001b[39mhandle, encoding\u001b[38;5;241m=\u001b[39m\u001b[38;5;28;01mNone\u001b[39;00m)\n",
      "\u001b[1;31mMemoryError\u001b[0m: "
     ]
    }
   ],
   "source": [
    "\n",
    "# Import dataframe\n",
    "path = r'C:\\Users\\Lenovo\\OneDrive\\Dokumente\\CareerFoundry\\Data Immersion\\4. Python Fundamentals for Data Analysts\\Instacart Basket Analysis - Kopie'\n",
    "df = pd.read_pickle(os.path.join(path,'02 Data', 'Prepared Data', 'ords_prods_customers.pkl'))"
   ]
  },
  {
   "cell_type": "code",
   "execution_count": null,
   "id": "fba71018",
   "metadata": {
    "tags": []
   },
   "outputs": [],
   "source": [
    "df.head()"
   ]
  },
  {
   "cell_type": "code",
   "execution_count": null,
   "id": "a3903e54",
   "metadata": {
    "tags": []
   },
   "outputs": [],
   "source": [
    "df.dtypes"
   ]
  },
  {
   "cell_type": "markdown",
   "id": "7e30e925-5ebe-4a08-8de2-2955925080d4",
   "metadata": {
    "tags": []
   },
   "source": [
    "## 02 Changing int64 in int 32"
   ]
  },
  {
   "cell_type": "code",
   "execution_count": null,
   "id": "515179f0-f022-40b4-98f2-9434436ec168",
   "metadata": {
    "tags": []
   },
   "outputs": [],
   "source": [
    "df['product_id']=df['product_id'].astype('int32')"
   ]
  },
  {
   "cell_type": "code",
   "execution_count": null,
   "id": "c4215080-96ae-45d0-bfa4-749eb681dcea",
   "metadata": {
    "tags": []
   },
   "outputs": [],
   "source": [
    "df['aisle_id']=df['aisle_id'].astype('int32')"
   ]
  },
  {
   "cell_type": "code",
   "execution_count": null,
   "id": "e947959b-a027-4543-98ad-ed0314a3e6db",
   "metadata": {
    "tags": []
   },
   "outputs": [],
   "source": [
    "df['department_id']=df['department_id'].astype('int32')"
   ]
  },
  {
   "cell_type": "code",
   "execution_count": null,
   "id": "6787ec5f-26c2-473c-be52-aa4c588b8724",
   "metadata": {
    "tags": []
   },
   "outputs": [],
   "source": [
    "df['age']=df['age'].astype('int32')"
   ]
  },
  {
   "cell_type": "code",
   "execution_count": null,
   "id": "22f489fc-ad64-4208-9495-f4c100dcd3ab",
   "metadata": {
    "tags": []
   },
   "outputs": [],
   "source": [
    "df['n_dependants']=df['n_dependants'].astype('int32')"
   ]
  },
  {
   "cell_type": "code",
   "execution_count": null,
   "id": "dd271346-8cba-4378-b573-b9de0563f805",
   "metadata": {
    "tags": []
   },
   "outputs": [],
   "source": [
    "df['income']=df['income'].astype('int32')"
   ]
  },
  {
   "cell_type": "markdown",
   "id": "768991d7-8f1c-48a8-8d48-8ef1e6dfaad8",
   "metadata": {
    "tags": []
   },
   "source": [
    "## 03 Changing float64 in float32"
   ]
  },
  {
   "cell_type": "code",
   "execution_count": null,
   "id": "b90196c3",
   "metadata": {
    "tags": []
   },
   "outputs": [],
   "source": [
    "df['order_number']=df['order_number'].astype('float32')"
   ]
  },
  {
   "cell_type": "code",
   "execution_count": null,
   "id": "7be735dd-a23f-4a03-a598-843e5df5a8d7",
   "metadata": {
    "tags": []
   },
   "outputs": [],
   "source": [
    "df['prices']=df['prices'].astype('float32')"
   ]
  },
  {
   "cell_type": "code",
   "execution_count": null,
   "id": "a4c57f1f-4c2f-47cc-bdf0-84956224484b",
   "metadata": {
    "tags": []
   },
   "outputs": [],
   "source": [
    "df['order_id']=df['order_id'].astype('float32')"
   ]
  },
  {
   "cell_type": "code",
   "execution_count": null,
   "id": "5ac7bc05-9060-4d59-b65b-83bcb91c2138",
   "metadata": {
    "tags": []
   },
   "outputs": [],
   "source": [
    "df['user_id']=df['user_id'].astype('float32')"
   ]
  },
  {
   "cell_type": "code",
   "execution_count": null,
   "id": "7d67c3cd-69c9-430e-8631-50123ee6fb61",
   "metadata": {
    "tags": []
   },
   "outputs": [],
   "source": [
    "df['orders_day_of_week']=df['orders_day_of_week'].astype('float32')"
   ]
  },
  {
   "cell_type": "code",
   "execution_count": null,
   "id": "a49f5317-d04e-482e-a636-a70e45a69b6a",
   "metadata": {
    "tags": []
   },
   "outputs": [],
   "source": [
    "df['order_hour_of_day']=df['order_hour_of_day'].astype('float32')"
   ]
  },
  {
   "cell_type": "code",
   "execution_count": null,
   "id": "476838a8-8fad-421f-8271-e666bc1735f8",
   "metadata": {
    "tags": []
   },
   "outputs": [],
   "source": [
    "df['days_since_prior_order']=df['days_since_prior_order'].astype('float32')"
   ]
  },
  {
   "cell_type": "code",
   "execution_count": null,
   "id": "597d9e77-fcd5-407c-86d5-fad96cf24675",
   "metadata": {
    "tags": []
   },
   "outputs": [],
   "source": [
    "df['add_to_cart_order']=df['add_to_cart_order'].astype('float32')"
   ]
  },
  {
   "cell_type": "code",
   "execution_count": null,
   "id": "1c17ece6-fd0a-4a11-9104-2cda4a78d35b",
   "metadata": {
    "tags": []
   },
   "outputs": [],
   "source": [
    "df['reordered']=df['reordered'].astype('float32')"
   ]
  },
  {
   "cell_type": "code",
   "execution_count": null,
   "id": "01dea366-9624-4d24-b864-14b516eb4ec7",
   "metadata": {
    "tags": []
   },
   "outputs": [],
   "source": [
    "df['max_order']=df['max_order'].astype('float32')"
   ]
  },
  {
   "cell_type": "code",
   "execution_count": null,
   "id": "6ea36860-8f60-4e06-9197-966cf876271c",
   "metadata": {
    "tags": []
   },
   "outputs": [],
   "source": [
    "df['mean_price']=df['mean_price'].astype('float32')"
   ]
  },
  {
   "cell_type": "code",
   "execution_count": null,
   "id": "35c497bd-c4e8-4a79-a174-06899968b4a6",
   "metadata": {
    "tags": []
   },
   "outputs": [],
   "source": [
    "df['frequency_median']=df['frequency_median'].astype('float32')"
   ]
  },
  {
   "cell_type": "markdown",
   "id": "147b2eb6-0d3a-4721-8db5-84592dc28014",
   "metadata": {
    "tags": []
   },
   "source": [
    "## 04 Checking changes"
   ]
  },
  {
   "cell_type": "code",
   "execution_count": 27,
   "id": "a65938b3",
   "metadata": {
    "tags": []
   },
   "outputs": [
    {
     "name": "stdout",
     "output_type": "stream",
     "text": [
      "<class 'pandas.core.frame.DataFrame'>\n",
      "RangeIndex: 32404859 entries, 0 to 32404858\n",
      "Data columns (total 33 columns):\n",
      " #   Column                  Dtype  \n",
      "---  ------                  -----  \n",
      " 0   product_id              int32  \n",
      " 1   product_name            object \n",
      " 2   aisle_id                int32  \n",
      " 3   department_id           int32  \n",
      " 4   prices                  float32\n",
      " 5   order_id                float32\n",
      " 6   user_id                 float32\n",
      " 7   order_number            float32\n",
      " 8   orders_day_of_week      float32\n",
      " 9   order_hour_of_day       float32\n",
      " 10  days_since_prior_order  float32\n",
      " 11  new_customer            object \n",
      " 12  add_to_cart_order       float32\n",
      " 13  reordered               float32\n",
      " 14  price_range_loc         object \n",
      " 15  busiest_day             object \n",
      " 16  busiest_days            object \n",
      " 17  busiest_hours           object \n",
      " 18  max_order               float32\n",
      " 19  loyalty_flag            object \n",
      " 20  mean_price              float32\n",
      " 21  spendings               object \n",
      " 22  frequency_median        float32\n",
      " 23  order_frequency         object \n",
      " 24  first_name              object \n",
      " 25  last_name               object \n",
      " 26  gender                  object \n",
      " 27  state                   object \n",
      " 28  age                     int32  \n",
      " 29  date_joined             object \n",
      " 30  n_dependants            int32  \n",
      " 31  fam_status              object \n",
      " 32  income                  int32  \n",
      "dtypes: float32(12), int32(6), object(15)\n",
      "memory usage: 5.8+ GB\n"
     ]
    }
   ],
   "source": [
    "## Checking changed data types\n",
    "df.info()"
   ]
  },
  {
   "cell_type": "markdown",
   "id": "e148851c-4ac7-4c5d-be33-c71164af55c8",
   "metadata": {
    "tags": []
   },
   "source": [
    "## 05 Export data frame"
   ]
  },
  {
   "cell_type": "code",
   "execution_count": 29,
   "id": "ee959fbc",
   "metadata": {
    "tags": []
   },
   "outputs": [],
   "source": [
    "# save the merged dataframe as a pickle\n",
    "df.to_pickle(os.path.join(path, '02 Data', 'Prepared Data', 'ords_prods_customers_reduced_size.pkl'))"
   ]
  },
  {
   "cell_type": "code",
   "execution_count": null,
   "id": "0228574f",
   "metadata": {},
   "outputs": [],
   "source": []
  }
 ],
 "metadata": {
  "kernelspec": {
   "display_name": "Python 3 (ipykernel)",
   "language": "python",
   "name": "python3"
  },
  "language_info": {
   "codemirror_mode": {
    "name": "ipython",
    "version": 3
   },
   "file_extension": ".py",
   "mimetype": "text/x-python",
   "name": "python",
   "nbconvert_exporter": "python",
   "pygments_lexer": "ipython3",
   "version": "3.11.4"
  }
 },
 "nbformat": 4,
 "nbformat_minor": 5
}
