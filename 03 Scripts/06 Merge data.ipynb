{
 "cells": [
  {
   "cell_type": "markdown",
   "id": "c92f4d18",
   "metadata": {},
   "source": [
    "# 06 Merging customer data with order and product data\n",
    "\n",
    "This Script contains:\n",
    "\n",
    "    01 Import libraries and customer data \n",
    "    02 Data wrangling for customers.csv\n",
    "    03 Quality and consistency checks\n",
    "    04 Combine customer data with prepared Instacart data\n",
    "    05 Export merged data frame\n"
   ]
  },
  {
   "cell_type": "markdown",
   "id": "c572c542",
   "metadata": {
    "jp-MarkdownHeadingCollapsed": true,
    "tags": []
   },
   "source": [
    "## 01 Import libraries and data\n"
   ]
  },
  {
   "cell_type": "code",
   "execution_count": 1,
   "id": "1b5b3f16",
   "metadata": {
    "tags": []
   },
   "outputs": [],
   "source": [
    "# Import libraries\n",
    "\n",
    "import pandas as pd\n",
    "import numpy as np\n",
    "import os\n",
    "import matplotlib.pyplot as plt\n",
    "import matplotlib as mpl\n",
    "import seaborn as sns\n",
    "import scipy"
   ]
  },
  {
   "cell_type": "code",
   "execution_count": 2,
   "id": "84076939-3809-4a43-8bfa-2f1b934bd35c",
   "metadata": {
    "tags": []
   },
   "outputs": [],
   "source": [
    "# Import dataframe\n",
    "path = r'C:\\Users\\Lenovo\\OneDrive\\Dokumente\\CareerFoundry\\Data Immersion\\4. Python Fundamentals for Data Analysts\\Instacart Basket Analysis - Kopie'\n",
    "customers = pd.read_csv(os.path.join(path,'02 Data', 'Original Data', 'customers.csv'))"
   ]
  },
  {
   "cell_type": "markdown",
   "id": "8f501a80",
   "metadata": {
    "jp-MarkdownHeadingCollapsed": true,
    "tags": []
   },
   "source": [
    "## 02 Data wrangling for customers\n",
    "\n",
    "    Dropping columns\n",
    "    Renaming columns\n",
    "    Changing data types"
   ]
  },
  {
   "cell_type": "markdown",
   "id": "3f3359a5",
   "metadata": {
    "tags": []
   },
   "source": [
    "### Dropping columns\n"
   ]
  },
  {
   "cell_type": "code",
   "execution_count": 4,
   "id": "33a33f29-aeed-44fb-91ae-eac99e06141d",
   "metadata": {
    "tags": []
   },
   "outputs": [
    {
     "data": {
      "text/plain": [
       "(206209, 10)"
      ]
     },
     "execution_count": 4,
     "metadata": {},
     "output_type": "execute_result"
    }
   ],
   "source": [
    "customers.shape"
   ]
  },
  {
   "cell_type": "code",
   "execution_count": 14,
   "id": "e750a578",
   "metadata": {
    "tags": []
   },
   "outputs": [
    {
     "name": "stdout",
     "output_type": "stream",
     "text": [
      "<class 'pandas.core.frame.DataFrame'>\n",
      "RangeIndex: 206209 entries, 0 to 206208\n",
      "Data columns (total 10 columns):\n",
      " #   Column        Non-Null Count   Dtype \n",
      "---  ------        --------------   ----- \n",
      " 0   user_id       206209 non-null  int64 \n",
      " 1   First Name    194950 non-null  object\n",
      " 2   Surnam        206209 non-null  object\n",
      " 3   Gender        206209 non-null  object\n",
      " 4   STATE         206209 non-null  object\n",
      " 5   Age           206209 non-null  int64 \n",
      " 6   date_joined   206209 non-null  object\n",
      " 7   n_dependants  206209 non-null  int64 \n",
      " 8   fam_status    206209 non-null  object\n",
      " 9   income        206209 non-null  int64 \n",
      "dtypes: int64(4), object(6)\n",
      "memory usage: 15.7+ MB\n"
     ]
    }
   ],
   "source": [
    "# Checking the dataframe\n",
    "customers.info()"
   ]
  },
  {
   "cell_type": "code",
   "execution_count": 15,
   "id": "e5df0b94",
   "metadata": {
    "tags": []
   },
   "outputs": [
    {
     "data": {
      "text/plain": [
       "Index(['user_id', 'First Name', 'Surnam', 'Gender', 'STATE', 'Age',\n",
       "       'date_joined', 'n_dependants', 'fam_status', 'income'],\n",
       "      dtype='object')"
      ]
     },
     "execution_count": 15,
     "metadata": {},
     "output_type": "execute_result"
    }
   ],
   "source": [
    "# Checking the columns\n",
    "customers.columns \n",
    "\n",
    "# No need for dropping columns"
   ]
  },
  {
   "cell_type": "markdown",
   "id": "11d0fd90",
   "metadata": {
    "tags": []
   },
   "source": [
    "### Renaming columns"
   ]
  },
  {
   "cell_type": "code",
   "execution_count": 16,
   "id": "5ea6c176",
   "metadata": {
    "tags": []
   },
   "outputs": [],
   "source": [
    "# Renaming Surnam STATE and First Name\n",
    "customers.rename(columns={'Surnam' : 'last_name', 'STATE': 'state', 'First Name': 'first_name', 'Gender': 'gender', 'Age': 'age'}, inplace = True)"
   ]
  },
  {
   "cell_type": "code",
   "execution_count": 17,
   "id": "6d173ca6",
   "metadata": {
    "tags": []
   },
   "outputs": [
    {
     "data": {
      "text/html": [
       "<div>\n",
       "<style scoped>\n",
       "    .dataframe tbody tr th:only-of-type {\n",
       "        vertical-align: middle;\n",
       "    }\n",
       "\n",
       "    .dataframe tbody tr th {\n",
       "        vertical-align: top;\n",
       "    }\n",
       "\n",
       "    .dataframe thead th {\n",
       "        text-align: right;\n",
       "    }\n",
       "</style>\n",
       "<table border=\"1\" class=\"dataframe\">\n",
       "  <thead>\n",
       "    <tr style=\"text-align: right;\">\n",
       "      <th></th>\n",
       "      <th>user_id</th>\n",
       "      <th>first_name</th>\n",
       "      <th>last_name</th>\n",
       "      <th>gender</th>\n",
       "      <th>state</th>\n",
       "      <th>age</th>\n",
       "      <th>date_joined</th>\n",
       "      <th>n_dependants</th>\n",
       "      <th>fam_status</th>\n",
       "      <th>income</th>\n",
       "    </tr>\n",
       "  </thead>\n",
       "  <tbody>\n",
       "    <tr>\n",
       "      <th>0</th>\n",
       "      <td>26711</td>\n",
       "      <td>Deborah</td>\n",
       "      <td>Esquivel</td>\n",
       "      <td>Female</td>\n",
       "      <td>Missouri</td>\n",
       "      <td>48</td>\n",
       "      <td>1/1/2017</td>\n",
       "      <td>3</td>\n",
       "      <td>married</td>\n",
       "      <td>165665</td>\n",
       "    </tr>\n",
       "    <tr>\n",
       "      <th>1</th>\n",
       "      <td>33890</td>\n",
       "      <td>Patricia</td>\n",
       "      <td>Hart</td>\n",
       "      <td>Female</td>\n",
       "      <td>New Mexico</td>\n",
       "      <td>36</td>\n",
       "      <td>1/1/2017</td>\n",
       "      <td>0</td>\n",
       "      <td>single</td>\n",
       "      <td>59285</td>\n",
       "    </tr>\n",
       "    <tr>\n",
       "      <th>2</th>\n",
       "      <td>65803</td>\n",
       "      <td>Kenneth</td>\n",
       "      <td>Farley</td>\n",
       "      <td>Male</td>\n",
       "      <td>Idaho</td>\n",
       "      <td>35</td>\n",
       "      <td>1/1/2017</td>\n",
       "      <td>2</td>\n",
       "      <td>married</td>\n",
       "      <td>99568</td>\n",
       "    </tr>\n",
       "    <tr>\n",
       "      <th>3</th>\n",
       "      <td>125935</td>\n",
       "      <td>Michelle</td>\n",
       "      <td>Hicks</td>\n",
       "      <td>Female</td>\n",
       "      <td>Iowa</td>\n",
       "      <td>40</td>\n",
       "      <td>1/1/2017</td>\n",
       "      <td>0</td>\n",
       "      <td>single</td>\n",
       "      <td>42049</td>\n",
       "    </tr>\n",
       "    <tr>\n",
       "      <th>4</th>\n",
       "      <td>130797</td>\n",
       "      <td>Ann</td>\n",
       "      <td>Gilmore</td>\n",
       "      <td>Female</td>\n",
       "      <td>Maryland</td>\n",
       "      <td>26</td>\n",
       "      <td>1/1/2017</td>\n",
       "      <td>1</td>\n",
       "      <td>married</td>\n",
       "      <td>40374</td>\n",
       "    </tr>\n",
       "  </tbody>\n",
       "</table>\n",
       "</div>"
      ],
      "text/plain": [
       "   user_id first_name last_name  gender       state  age date_joined  \\\n",
       "0    26711    Deborah  Esquivel  Female    Missouri   48    1/1/2017   \n",
       "1    33890   Patricia      Hart  Female  New Mexico   36    1/1/2017   \n",
       "2    65803    Kenneth    Farley    Male       Idaho   35    1/1/2017   \n",
       "3   125935   Michelle     Hicks  Female        Iowa   40    1/1/2017   \n",
       "4   130797        Ann   Gilmore  Female    Maryland   26    1/1/2017   \n",
       "\n",
       "   n_dependants fam_status  income  \n",
       "0             3    married  165665  \n",
       "1             0     single   59285  \n",
       "2             2    married   99568  \n",
       "3             0     single   42049  \n",
       "4             1    married   40374  "
      ]
     },
     "execution_count": 17,
     "metadata": {},
     "output_type": "execute_result"
    }
   ],
   "source": [
    "customers.head()"
   ]
  },
  {
   "cell_type": "markdown",
   "id": "6a572eda",
   "metadata": {
    "tags": []
   },
   "source": [
    "### Changing Data type"
   ]
  },
  {
   "cell_type": "code",
   "execution_count": 18,
   "id": "3aaa2920",
   "metadata": {
    "tags": []
   },
   "outputs": [
    {
     "data": {
      "text/plain": [
       "user_id          int64\n",
       "first_name      object\n",
       "last_name       object\n",
       "gender          object\n",
       "state           object\n",
       "age              int64\n",
       "date_joined     object\n",
       "n_dependants     int64\n",
       "fam_status      object\n",
       "income           int64\n",
       "dtype: object"
      ]
     },
     "execution_count": 18,
     "metadata": {},
     "output_type": "execute_result"
    }
   ],
   "source": [
    "# Checking Data types\n",
    "customers.dtypes"
   ]
  },
  {
   "cell_type": "code",
   "execution_count": 19,
   "id": "395b7993",
   "metadata": {
    "tags": []
   },
   "outputs": [
    {
     "name": "stdout",
     "output_type": "stream",
     "text": [
      "first_name\n"
     ]
    }
   ],
   "source": [
    "# Checking for columns that have mixed type data\n",
    "for col in customers.columns.tolist():\n",
    "    weird =( customers[[col]].applymap(type) !=customers[[col]].iloc[0].apply(type)).any(axis=1)\n",
    "    \n",
    "    if len (customers[weird])> 0:\n",
    "        print(col)"
   ]
  },
  {
   "cell_type": "code",
   "execution_count": 20,
   "id": "6c5af058",
   "metadata": {
    "tags": []
   },
   "outputs": [],
   "source": [
    "# Changing First names data type into string\n",
    "customers['first_name'] = customers['first_name'].astype('str')"
   ]
  },
  {
   "cell_type": "markdown",
   "id": "df1ada29",
   "metadata": {
    "tags": []
   },
   "source": [
    "## 03 Quality and consistency checks\n",
    "\n",
    "\n",
    "    Missing values\n",
    "    Consistency checks\n",
    "    Checking for duplicates"
   ]
  },
  {
   "cell_type": "markdown",
   "id": "fc1ae2e3-00be-4880-b47a-7fcd0885622a",
   "metadata": {},
   "source": [
    "### Missing values"
   ]
  },
  {
   "cell_type": "code",
   "execution_count": 21,
   "id": "ec094049",
   "metadata": {
    "tags": []
   },
   "outputs": [
    {
     "data": {
      "text/plain": [
       "Index([], dtype='object')"
      ]
     },
     "execution_count": 21,
     "metadata": {},
     "output_type": "execute_result"
    }
   ],
   "source": [
    "# Check for columns with missing values\n",
    "customers.columns[customers.isnull().any()]"
   ]
  },
  {
   "cell_type": "markdown",
   "id": "4b3e2aaf",
   "metadata": {
    "tags": []
   },
   "source": [
    "### Consistency checks for each row:"
   ]
  },
  {
   "cell_type": "markdown",
   "id": "10f2d24e",
   "metadata": {
    "tags": []
   },
   "source": [
    "#### gender"
   ]
  },
  {
   "cell_type": "code",
   "execution_count": 23,
   "id": "4e8008f6",
   "metadata": {
    "tags": []
   },
   "outputs": [
    {
     "data": {
      "text/plain": [
       "gender\n",
       "Male      104067\n",
       "Female    102142\n",
       "Name: count, dtype: int64"
      ]
     },
     "execution_count": 23,
     "metadata": {},
     "output_type": "execute_result"
    }
   ],
   "source": [
    "# Checking the number of values for gender\n",
    "customers['gender'].value_counts(dropna = False)"
   ]
  },
  {
   "cell_type": "markdown",
   "id": "75b1d96b",
   "metadata": {},
   "source": [
    "##### Observations for gender\n",
    "almost equal distribution between men and women \n",
    "\n",
    "no missing values"
   ]
  },
  {
   "cell_type": "markdown",
   "id": "2e542962",
   "metadata": {
    "tags": []
   },
   "source": [
    "#### state"
   ]
  },
  {
   "cell_type": "code",
   "execution_count": 24,
   "id": "3760abbd",
   "metadata": {
    "tags": []
   },
   "outputs": [
    {
     "data": {
      "text/plain": [
       "51"
      ]
     },
     "execution_count": 24,
     "metadata": {},
     "output_type": "execute_result"
    }
   ],
   "source": [
    "# Checking for number of unique values\n",
    "customers['state'].nunique()"
   ]
  },
  {
   "cell_type": "code",
   "execution_count": 25,
   "id": "5b01c93b",
   "metadata": {
    "tags": []
   },
   "outputs": [
    {
     "data": {
      "text/plain": [
       "state\n",
       "Florida                 4044\n",
       "Colorado                4044\n",
       "Illinois                4044\n",
       "Alabama                 4044\n",
       "District of Columbia    4044\n",
       "Hawaii                  4044\n",
       "Arizona                 4044\n",
       "Connecticut             4044\n",
       "California              4044\n",
       "Indiana                 4044\n",
       "Arkansas                4044\n",
       "Alaska                  4044\n",
       "Delaware                4044\n",
       "Iowa                    4044\n",
       "Idaho                   4044\n",
       "Georgia                 4044\n",
       "Wyoming                 4043\n",
       "Mississippi             4043\n",
       "Oklahoma                4043\n",
       "Utah                    4043\n",
       "New Hampshire           4043\n",
       "Kentucky                4043\n",
       "Maryland                4043\n",
       "Rhode Island            4043\n",
       "Massachusetts           4043\n",
       "Michigan                4043\n",
       "New Jersey              4043\n",
       "Kansas                  4043\n",
       "South Dakota            4043\n",
       "Minnesota               4043\n",
       "Tennessee               4043\n",
       "New York                4043\n",
       "Washington              4043\n",
       "Louisiana               4043\n",
       "Montana                 4043\n",
       "North Dakota            4043\n",
       "Wisconsin               4043\n",
       "Nebraska                4043\n",
       "Vermont                 4043\n",
       "Nevada                  4043\n",
       "Maine                   4043\n",
       "North Carolina          4043\n",
       "West Virginia           4043\n",
       "Virginia                4043\n",
       "Oregon                  4043\n",
       "New Mexico              4043\n",
       "Texas                   4043\n",
       "Pennsylvania            4043\n",
       "Ohio                    4043\n",
       "South Carolina          4043\n",
       "Missouri                4043\n",
       "Name: count, dtype: int64"
      ]
     },
     "execution_count": 25,
     "metadata": {},
     "output_type": "execute_result"
    }
   ],
   "source": [
    "# Checking the number of values for state\n",
    "customers['state'].value_counts(dropna=False)"
   ]
  },
  {
   "cell_type": "markdown",
   "id": "151e3586",
   "metadata": {},
   "source": [
    "##### observations for state\n",
    "51 states including DC\n",
    "\n",
    "Almost equally distributed"
   ]
  },
  {
   "cell_type": "markdown",
   "id": "6a3d3175",
   "metadata": {
    "tags": []
   },
   "source": [
    "#### age"
   ]
  },
  {
   "cell_type": "code",
   "execution_count": 26,
   "id": "fb55345e",
   "metadata": {
    "tags": []
   },
   "outputs": [
    {
     "data": {
      "text/plain": [
       "count    206209.000000\n",
       "mean         49.501646\n",
       "std          18.480962\n",
       "min          18.000000\n",
       "25%          33.000000\n",
       "50%          49.000000\n",
       "75%          66.000000\n",
       "max          81.000000\n",
       "Name: age, dtype: float64"
      ]
     },
     "execution_count": 26,
     "metadata": {},
     "output_type": "execute_result"
    }
   ],
   "source": [
    "# Checking age\n",
    "customers['age'].describe()"
   ]
  },
  {
   "cell_type": "code",
   "execution_count": 27,
   "id": "1f1fe0f4",
   "metadata": {
    "tags": []
   },
   "outputs": [
    {
     "data": {
      "text/plain": [
       "age\n",
       "19    3329\n",
       "55    3317\n",
       "51    3317\n",
       "56    3306\n",
       "32    3305\n",
       "      ... \n",
       "65    3145\n",
       "25    3127\n",
       "66    3114\n",
       "50    3102\n",
       "36    3101\n",
       "Name: count, Length: 64, dtype: int64"
      ]
     },
     "execution_count": 27,
     "metadata": {},
     "output_type": "execute_result"
    }
   ],
   "source": [
    "# Checking the count of values for age\n",
    "customers['age'].value_counts(dropna= False)"
   ]
  },
  {
   "cell_type": "code",
   "execution_count": 29,
   "id": "7818076a",
   "metadata": {
    "tags": []
   },
   "outputs": [
    {
     "data": {
      "text/plain": [
       "Text(0.5, 1.0, 'Age Distribution')"
      ]
     },
     "execution_count": 29,
     "metadata": {},
     "output_type": "execute_result"
    },
    {
     "data": {
      "image/png": "[encoded data removed]",
      "text/plain": [
       "<Figure size 640x480 with 1 Axes>"
      ]
     },
     "metadata": {},
     "output_type": "display_data"
    }
   ],
   "source": [
    "# Checking distribution of age\n",
    "customers['age'].plot.hist(bins=20, xlabel='Age')\n",
    "plt.title('Age Distribution', fontsize=13)"
   ]
  },
  {
   "cell_type": "markdown",
   "id": "9d5b9539",
   "metadata": {},
   "source": [
    "##### Observations for age\n",
    "age between 18 and 81 with an average of 50\n",
    "\n",
    "equal distribution with 4 peaks\n",
    "\n",
    "no missing values"
   ]
  },
  {
   "cell_type": "markdown",
   "id": "e9aa3888",
   "metadata": {
    "tags": []
   },
   "source": [
    "#### date_joined"
   ]
  },
  {
   "cell_type": "code",
   "execution_count": 30,
   "id": "8ddd8b42",
   "metadata": {
    "tags": []
   },
   "outputs": [
    {
     "data": {
      "text/plain": [
       "'9/9/2019'"
      ]
     },
     "execution_count": 30,
     "metadata": {},
     "output_type": "execute_result"
    }
   ],
   "source": [
    "# Checking the latest entry\n",
    "customers['date_joined'].max()"
   ]
  },
  {
   "cell_type": "code",
   "execution_count": 31,
   "id": "2411721d",
   "metadata": {
    "tags": []
   },
   "outputs": [
    {
     "data": {
      "text/plain": [
       "'1/1/2017'"
      ]
     },
     "execution_count": 31,
     "metadata": {},
     "output_type": "execute_result"
    }
   ],
   "source": [
    "# Checking the first entry\n",
    "customers['date_joined'].min()"
   ]
  },
  {
   "cell_type": "code",
   "execution_count": 32,
   "id": "17231b42",
   "metadata": {
    "tags": []
   },
   "outputs": [
    {
     "data": {
      "text/plain": [
       "0    9/17/2018\n",
       "Name: date_joined, dtype: object"
      ]
     },
     "execution_count": 32,
     "metadata": {},
     "output_type": "execute_result"
    }
   ],
   "source": [
    "# Checking mode\n",
    "customers['date_joined'].mode()"
   ]
  },
  {
   "cell_type": "code",
   "execution_count": 34,
   "id": "8cf3188d",
   "metadata": {
    "tags": []
   },
   "outputs": [
    {
     "data": {
      "text/plain": [
       "date_joined\n",
       "9/17/2018     213\n",
       "2/10/2018     212\n",
       "4/1/2019      211\n",
       "9/21/2019     211\n",
       "12/19/2017    210\n",
       "             ... \n",
       "9/1/2018      141\n",
       "1/22/2018     140\n",
       "11/24/2017    139\n",
       "7/18/2019     138\n",
       "8/6/2018      128\n",
       "Name: count, Length: 1187, dtype: int64"
      ]
     },
     "execution_count": 34,
     "metadata": {},
     "output_type": "execute_result"
    }
   ],
   "source": [
    "# Checking the number of values\n",
    "customers['date_joined'].value_counts(dropna=False)"
   ]
  },
  {
   "cell_type": "markdown",
   "id": "56a83703",
   "metadata": {},
   "source": [
    "##### Observations for date_joined\n",
    "\n",
    "dates between 1/1/2017 and 9/9/2019\n",
    "\n",
    "no missing values"
   ]
  },
  {
   "cell_type": "markdown",
   "id": "45a7af2f",
   "metadata": {
    "tags": []
   },
   "source": [
    "#### n_dependants"
   ]
  },
  {
   "cell_type": "code",
   "execution_count": 35,
   "id": "d34efe03",
   "metadata": {
    "tags": []
   },
   "outputs": [
    {
     "data": {
      "text/plain": [
       "count    206209.000000\n",
       "mean          1.499823\n",
       "std           1.118433\n",
       "min           0.000000\n",
       "25%           0.000000\n",
       "50%           1.000000\n",
       "75%           3.000000\n",
       "max           3.000000\n",
       "Name: n_dependants, dtype: float64"
      ]
     },
     "execution_count": 35,
     "metadata": {},
     "output_type": "execute_result"
    }
   ],
   "source": [
    "# Checking key figures\n",
    "customers['n_dependants'].describe()"
   ]
  },
  {
   "cell_type": "code",
   "execution_count": 37,
   "id": "d76147f2",
   "metadata": {
    "tags": []
   },
   "outputs": [
    {
     "data": {
      "text/plain": [
       "n_dependants\n",
       "0    51602\n",
       "3    51594\n",
       "1    51531\n",
       "2    51482\n",
       "Name: count, dtype: int64"
      ]
     },
     "execution_count": 37,
     "metadata": {},
     "output_type": "execute_result"
    }
   ],
   "source": [
    "# Counting values\n",
    "customers['n_dependants'].value_counts(dropna=False)"
   ]
  },
  {
   "cell_type": "code",
   "execution_count": 39,
   "id": "40a8a253",
   "metadata": {
    "tags": []
   },
   "outputs": [
    {
     "data": {
      "text/plain": [
       "Text(0.5, 1.0, 'Distribution of dependants')"
      ]
     },
     "execution_count": 39,
     "metadata": {},
     "output_type": "execute_result"
    },
    {
     "data": {
      "image/png": "[encoded data removed]",
      "text/plain": [
       "<Figure size 640x480 with 1 Axes>"
      ]
     },
     "metadata": {},
     "output_type": "display_data"
    }
   ],
   "source": [
    "# Visualization of distribution\n",
    "customers['n_dependants'].value_counts(dropna=True).sort_index().plot.bar(color=['blue'], ylabel='Frequency', \n",
    "                                xlabel='number of dependants')\n",
    "plt.title('Distribution of dependants')"
   ]
  },
  {
   "cell_type": "markdown",
   "id": "c8f66cf4",
   "metadata": {},
   "source": [
    "##### Observations for n_dependants\n",
    "range of 'number of dependants' between 0 and 3\n",
    "\n",
    "equal distribution between these 4 values\n",
    "\n",
    "no missing values"
   ]
  },
  {
   "cell_type": "markdown",
   "id": "bf8ec50f",
   "metadata": {
    "tags": []
   },
   "source": [
    "#### fam_status"
   ]
  },
  {
   "cell_type": "code",
   "execution_count": 40,
   "id": "bfaf7ed7",
   "metadata": {
    "tags": []
   },
   "outputs": [
    {
     "data": {
      "text/plain": [
       "fam_status\n",
       "married                             144906\n",
       "single                               33962\n",
       "divorced/widowed                     17640\n",
       "living with parents and siblings      9701\n",
       "Name: count, dtype: int64"
      ]
     },
     "execution_count": 40,
     "metadata": {},
     "output_type": "execute_result"
    }
   ],
   "source": [
    "# family status value counts\n",
    "customers['fam_status'].value_counts(dropna=False)"
   ]
  },
  {
   "cell_type": "code",
   "execution_count": 41,
   "id": "5da93423",
   "metadata": {
    "tags": []
   },
   "outputs": [
    {
     "data": {
      "text/plain": [
       "Text(0.5, 1.0, 'fam_status Distribution of our customers')"
      ]
     },
     "execution_count": 41,
     "metadata": {},
     "output_type": "execute_result"
    },
    {
     "data": {
      "image/png": "[encoded data removed]",
      "text/plain": [
       "<Figure size 640x480 with 1 Axes>"
      ]
     },
     "metadata": {},
     "output_type": "display_data"
    }
   ],
   "source": [
    "# Visualization of distribution of family status\n",
    "\n",
    "customers['fam_status'].value_counts(dropna=True).sort_index().plot.bar(color=['blue'], ylabel='number of customers', \n",
    "                                xlabel='fam_status')\n",
    "plt.title('fam_status Distribution of our customers')"
   ]
  },
  {
   "cell_type": "markdown",
   "id": "52f6beff-5313-4b63-ad1f-15e51fd51bdd",
   "metadata": {
    "tags": []
   },
   "source": [
    "##### Observations for fam_status\n",
    "most customers are married\n",
    "no missing values"
   ]
  },
  {
   "cell_type": "markdown",
   "id": "4a534277",
   "metadata": {
    "tags": []
   },
   "source": [
    "#### income"
   ]
  },
  {
   "cell_type": "code",
   "execution_count": 42,
   "id": "dd473aaa",
   "metadata": {
    "tags": []
   },
   "outputs": [
    {
     "data": {
      "text/plain": [
       "count    206209.000000\n",
       "mean      94632.852548\n",
       "std       42473.786988\n",
       "min       25903.000000\n",
       "25%       59874.000000\n",
       "50%       93547.000000\n",
       "75%      124244.000000\n",
       "max      593901.000000\n",
       "Name: income, dtype: float64"
      ]
     },
     "execution_count": 42,
     "metadata": {},
     "output_type": "execute_result"
    }
   ],
   "source": [
    "# Checking key figures\n",
    "customers['income'].describe()"
   ]
  },
  {
   "cell_type": "code",
   "execution_count": 43,
   "id": "0622349e",
   "metadata": {
    "tags": []
   },
   "outputs": [
    {
     "data": {
      "text/plain": [
       "<Axes: ylabel='Frequency'>"
      ]
     },
     "execution_count": 43,
     "metadata": {},
     "output_type": "execute_result"
    },
    {
     "data": {
      "image/png": "[encoded data removed]",
      "text/plain": [
       "<Figure size 640x480 with 1 Axes>"
      ]
     },
     "metadata": {},
     "output_type": "display_data"
    }
   ],
   "source": [
    "# Checking the distribution of customers income\n",
    "bins = [100000,200000,300000,400000, 500000]\n",
    "customers['income'].plot.hist(bins=25)"
   ]
  },
  {
   "cell_type": "markdown",
   "id": "383215b6",
   "metadata": {},
   "source": [
    "##### Observations on income\n",
    "incomes between 25903 and 593901 with an mean of 94632.85\n",
    "\n",
    "distribution is right skewed\n",
    "\n",
    "no missing values"
   ]
  },
  {
   "cell_type": "markdown",
   "id": "001b80f5",
   "metadata": {
    "tags": []
   },
   "source": [
    "### Checking for duplicates"
   ]
  },
  {
   "cell_type": "code",
   "execution_count": 44,
   "id": "9c62be9d",
   "metadata": {
    "tags": []
   },
   "outputs": [
    {
     "data": {
      "text/plain": [
       "(0, 10)"
      ]
     },
     "execution_count": 44,
     "metadata": {},
     "output_type": "execute_result"
    }
   ],
   "source": [
    "# Duplicates check\n",
    "dups = customers[customers.duplicated()]\n",
    "dups.shape"
   ]
  },
  {
   "cell_type": "markdown",
   "id": "16b1536c",
   "metadata": {},
   "source": [
    "##### observations on duplicates\n",
    "\n",
    "no duplicates found"
   ]
  },
  {
   "cell_type": "markdown",
   "id": "dc7c1e05",
   "metadata": {},
   "source": [
    "## 04 Combine customer data with prepared Instacart data\n",
    "\n",
    "    Preparation of data for merge\n",
    "    Merge data frames\n"
   ]
  },
  {
   "cell_type": "markdown",
   "id": "161dca9b-5d63-4301-82fb-0ca390e712f3",
   "metadata": {
    "tags": []
   },
   "source": [
    "### Preparation of data for merge "
   ]
  },
  {
   "cell_type": "code",
   "execution_count": 45,
   "id": "cbeccee1",
   "metadata": {
    "tags": []
   },
   "outputs": [
    {
     "data": {
      "text/plain": [
       "(32404870, 25)"
      ]
     },
     "execution_count": 45,
     "metadata": {},
     "output_type": "execute_result"
    }
   ],
   "source": [
    "# import the orders_products\n",
    "ords_prods = pd.read_pickle(os.path.join(path,'02 Data', 'Prepared Data', 'ords_prods_with_flags.pkl')) \n",
    "ords_prods.shape"
   ]
  },
  {
   "cell_type": "code",
   "execution_count": 57,
   "id": "b9afce64",
   "metadata": {
    "tags": []
   },
   "outputs": [
    {
     "data": {
      "text/plain": [
       "product_id                   int32\n",
       "product_name                object\n",
       "aisle_id                     int32\n",
       "department_id                int32\n",
       "prices                     float64\n",
       "order_id                   float64\n",
       "user_id                    float64\n",
       "order_number               float64\n",
       "orders_day_of_week         float64\n",
       "order_hour_of_day          float64\n",
       "days_since_prior_order     float64\n",
       "new_customer                object\n",
       "add_to_cart_order          float64\n",
       "reordered                  float64\n",
       "_merge                    category\n",
       "price_range_loc             object\n",
       "busiest_day                 object\n",
       "busiest_days                object\n",
       "busiest_hours               object\n",
       "max_order                  float64\n",
       "loyalty_flag                object\n",
       "mean_price                 float64\n",
       "spendings                   object\n",
       "frequency_median           float64\n",
       "order_frequency             object\n",
       "dtype: object"
      ]
     },
     "execution_count": 57,
     "metadata": {},
     "output_type": "execute_result"
    }
   ],
   "source": [
    "# checking the types of the dataframes\n",
    "ords_prods.dtypes\n",
    "\n"
   ]
  },
  {
   "cell_type": "markdown",
   "id": "1e8d391b-c498-4f39-9d5a-c22070681249",
   "metadata": {},
   "source": [
    "## Changing data types"
   ]
  },
  {
   "cell_type": "code",
   "execution_count": 47,
   "id": "f616f4fb",
   "metadata": {
    "tags": []
   },
   "outputs": [
    {
     "data": {
      "text/plain": [
       "user_id          int64\n",
       "first_name      object\n",
       "last_name       object\n",
       "gender          object\n",
       "state           object\n",
       "age              int64\n",
       "date_joined     object\n",
       "n_dependants     int64\n",
       "fam_status      object\n",
       "income           int64\n",
       "dtype: object"
      ]
     },
     "execution_count": 47,
     "metadata": {},
     "output_type": "execute_result"
    }
   ],
   "source": [
    "# Checking customers data types\n",
    "customers.dtypes"
   ]
  },
  {
   "cell_type": "code",
   "execution_count": 48,
   "id": "a0a2b5d9",
   "metadata": {
    "tags": []
   },
   "outputs": [],
   "source": [
    "# Transforming the data type of user_id in customers\n",
    "customers['user_id']= customers['user_id'].astype('float64')"
   ]
  },
  {
   "cell_type": "code",
   "execution_count": 49,
   "id": "d0bca9c5",
   "metadata": {
    "tags": []
   },
   "outputs": [
    {
     "data": {
      "text/plain": [
       "user_id         float64\n",
       "first_name       object\n",
       "last_name        object\n",
       "gender           object\n",
       "state            object\n",
       "age               int64\n",
       "date_joined      object\n",
       "n_dependants      int64\n",
       "fam_status       object\n",
       "income            int64\n",
       "dtype: object"
      ]
     },
     "execution_count": 49,
     "metadata": {},
     "output_type": "execute_result"
    }
   ],
   "source": [
    "customers.dtypes"
   ]
  },
  {
   "cell_type": "code",
   "execution_count": 50,
   "id": "0807cd04-81ea-4e65-b5a0-53c96a24a5cf",
   "metadata": {
    "tags": []
   },
   "outputs": [
    {
     "data": {
      "text/plain": [
       "count    206209.000000\n",
       "mean      94632.852548\n",
       "std       42473.786988\n",
       "min       25903.000000\n",
       "25%       59874.000000\n",
       "50%       93547.000000\n",
       "75%      124244.000000\n",
       "max      593901.000000\n",
       "Name: income, dtype: float64"
      ]
     },
     "execution_count": 50,
     "metadata": {},
     "output_type": "execute_result"
    }
   ],
   "source": [
    "customers['income'].describe()"
   ]
  },
  {
   "cell_type": "markdown",
   "id": "5bca04bd-d7e3-4e6f-8174-1c86526d9d94",
   "metadata": {
    "tags": []
   },
   "source": [
    "### Merge data frames"
   ]
  },
  {
   "cell_type": "code",
   "execution_count": 59,
   "id": "e2eb8291",
   "metadata": {
    "tags": []
   },
   "outputs": [],
   "source": [
    "# merging ords_prods with customers on user_id\n",
    "ords_prods_customers = ords_prods.merge(customers, on=['user_id'], how = 'inner')"
   ]
  },
  {
   "cell_type": "markdown",
   "id": "547b2127-371a-4652-947f-72c25905d53d",
   "metadata": {},
   "source": [
    "### Checking merged data frame"
   ]
  },
  {
   "cell_type": "code",
   "execution_count": 60,
   "id": "2c3d0818",
   "metadata": {
    "tags": []
   },
   "outputs": [
    {
     "data": {
      "text/html": [
       "<div>\n",
       "<style scoped>\n",
       "    .dataframe tbody tr th:only-of-type {\n",
       "        vertical-align: middle;\n",
       "    }\n",
       "\n",
       "    .dataframe tbody tr th {\n",
       "        vertical-align: top;\n",
       "    }\n",
       "\n",
       "    .dataframe thead th {\n",
       "        text-align: right;\n",
       "    }\n",
       "</style>\n",
       "<table border=\"1\" class=\"dataframe\">\n",
       "  <thead>\n",
       "    <tr style=\"text-align: right;\">\n",
       "      <th></th>\n",
       "      <th>product_id</th>\n",
       "      <th>product_name</th>\n",
       "      <th>aisle_id</th>\n",
       "      <th>department_id</th>\n",
       "      <th>prices</th>\n",
       "      <th>order_id</th>\n",
       "      <th>user_id</th>\n",
       "      <th>order_number</th>\n",
       "      <th>orders_day_of_week</th>\n",
       "      <th>order_hour_of_day</th>\n",
       "      <th>...</th>\n",
       "      <th>order_frequency</th>\n",
       "      <th>first_name</th>\n",
       "      <th>last_name</th>\n",
       "      <th>gender</th>\n",
       "      <th>state</th>\n",
       "      <th>age</th>\n",
       "      <th>date_joined</th>\n",
       "      <th>n_dependants</th>\n",
       "      <th>fam_status</th>\n",
       "      <th>income</th>\n",
       "    </tr>\n",
       "  </thead>\n",
       "  <tbody>\n",
       "    <tr>\n",
       "      <th>0</th>\n",
       "      <td>1</td>\n",
       "      <td>Chocolate Sandwich Cookies</td>\n",
       "      <td>61</td>\n",
       "      <td>19</td>\n",
       "      <td>5.8</td>\n",
       "      <td>3139998.0</td>\n",
       "      <td>138.0</td>\n",
       "      <td>28.0</td>\n",
       "      <td>6.0</td>\n",
       "      <td>11.0</td>\n",
       "      <td>...</td>\n",
       "      <td>Frequent customer</td>\n",
       "      <td>Charles</td>\n",
       "      <td>Cox</td>\n",
       "      <td>Male</td>\n",
       "      <td>Minnesota</td>\n",
       "      <td>81</td>\n",
       "      <td>8/1/2019</td>\n",
       "      <td>1</td>\n",
       "      <td>married</td>\n",
       "      <td>49620</td>\n",
       "    </tr>\n",
       "    <tr>\n",
       "      <th>1</th>\n",
       "      <td>1</td>\n",
       "      <td>Chocolate Sandwich Cookies</td>\n",
       "      <td>61</td>\n",
       "      <td>19</td>\n",
       "      <td>5.8</td>\n",
       "      <td>1977647.0</td>\n",
       "      <td>138.0</td>\n",
       "      <td>30.0</td>\n",
       "      <td>6.0</td>\n",
       "      <td>17.0</td>\n",
       "      <td>...</td>\n",
       "      <td>Frequent customer</td>\n",
       "      <td>Charles</td>\n",
       "      <td>Cox</td>\n",
       "      <td>Male</td>\n",
       "      <td>Minnesota</td>\n",
       "      <td>81</td>\n",
       "      <td>8/1/2019</td>\n",
       "      <td>1</td>\n",
       "      <td>married</td>\n",
       "      <td>49620</td>\n",
       "    </tr>\n",
       "    <tr>\n",
       "      <th>2</th>\n",
       "      <td>907</td>\n",
       "      <td>Premium Sliced Bacon</td>\n",
       "      <td>106</td>\n",
       "      <td>12</td>\n",
       "      <td>20.0</td>\n",
       "      <td>3160996.0</td>\n",
       "      <td>138.0</td>\n",
       "      <td>1.0</td>\n",
       "      <td>5.0</td>\n",
       "      <td>13.0</td>\n",
       "      <td>...</td>\n",
       "      <td>Frequent customer</td>\n",
       "      <td>Charles</td>\n",
       "      <td>Cox</td>\n",
       "      <td>Male</td>\n",
       "      <td>Minnesota</td>\n",
       "      <td>81</td>\n",
       "      <td>8/1/2019</td>\n",
       "      <td>1</td>\n",
       "      <td>married</td>\n",
       "      <td>49620</td>\n",
       "    </tr>\n",
       "    <tr>\n",
       "      <th>3</th>\n",
       "      <td>907</td>\n",
       "      <td>Premium Sliced Bacon</td>\n",
       "      <td>106</td>\n",
       "      <td>12</td>\n",
       "      <td>20.0</td>\n",
       "      <td>2254091.0</td>\n",
       "      <td>138.0</td>\n",
       "      <td>10.0</td>\n",
       "      <td>5.0</td>\n",
       "      <td>14.0</td>\n",
       "      <td>...</td>\n",
       "      <td>Frequent customer</td>\n",
       "      <td>Charles</td>\n",
       "      <td>Cox</td>\n",
       "      <td>Male</td>\n",
       "      <td>Minnesota</td>\n",
       "      <td>81</td>\n",
       "      <td>8/1/2019</td>\n",
       "      <td>1</td>\n",
       "      <td>married</td>\n",
       "      <td>49620</td>\n",
       "    </tr>\n",
       "    <tr>\n",
       "      <th>4</th>\n",
       "      <td>1000</td>\n",
       "      <td>Apricots</td>\n",
       "      <td>18</td>\n",
       "      <td>10</td>\n",
       "      <td>12.9</td>\n",
       "      <td>505689.0</td>\n",
       "      <td>138.0</td>\n",
       "      <td>9.0</td>\n",
       "      <td>6.0</td>\n",
       "      <td>12.0</td>\n",
       "      <td>...</td>\n",
       "      <td>Frequent customer</td>\n",
       "      <td>Charles</td>\n",
       "      <td>Cox</td>\n",
       "      <td>Male</td>\n",
       "      <td>Minnesota</td>\n",
       "      <td>81</td>\n",
       "      <td>8/1/2019</td>\n",
       "      <td>1</td>\n",
       "      <td>married</td>\n",
       "      <td>49620</td>\n",
       "    </tr>\n",
       "  </tbody>\n",
       "</table>\n",
       "<p>5 rows × 34 columns</p>\n",
       "</div>"
      ],
      "text/plain": [
       "   product_id                product_name  aisle_id  department_id  prices  \\\n",
       "0           1  Chocolate Sandwich Cookies        61             19     5.8   \n",
       "1           1  Chocolate Sandwich Cookies        61             19     5.8   \n",
       "2         907        Premium Sliced Bacon       106             12    20.0   \n",
       "3         907        Premium Sliced Bacon       106             12    20.0   \n",
       "4        1000                    Apricots        18             10    12.9   \n",
       "\n",
       "    order_id  user_id  order_number  orders_day_of_week  order_hour_of_day  \\\n",
       "0  3139998.0    138.0          28.0                 6.0               11.0   \n",
       "1  1977647.0    138.0          30.0                 6.0               17.0   \n",
       "2  3160996.0    138.0           1.0                 5.0               13.0   \n",
       "3  2254091.0    138.0          10.0                 5.0               14.0   \n",
       "4   505689.0    138.0           9.0                 6.0               12.0   \n",
       "\n",
       "   ...    order_frequency first_name  last_name  gender      state age  \\\n",
       "0  ...  Frequent customer    Charles        Cox    Male  Minnesota  81   \n",
       "1  ...  Frequent customer    Charles        Cox    Male  Minnesota  81   \n",
       "2  ...  Frequent customer    Charles        Cox    Male  Minnesota  81   \n",
       "3  ...  Frequent customer    Charles        Cox    Male  Minnesota  81   \n",
       "4  ...  Frequent customer    Charles        Cox    Male  Minnesota  81   \n",
       "\n",
       "  date_joined n_dependants fam_status  income  \n",
       "0    8/1/2019            1    married   49620  \n",
       "1    8/1/2019            1    married   49620  \n",
       "2    8/1/2019            1    married   49620  \n",
       "3    8/1/2019            1    married   49620  \n",
       "4    8/1/2019            1    married   49620  \n",
       "\n",
       "[5 rows x 34 columns]"
      ]
     },
     "execution_count": 60,
     "metadata": {},
     "output_type": "execute_result"
    }
   ],
   "source": [
    "# Checking head\n",
    "ords_prods_customers.head()"
   ]
  },
  {
   "cell_type": "code",
   "execution_count": 61,
   "id": "5546cb6e",
   "metadata": {
    "tags": []
   },
   "outputs": [
    {
     "data": {
      "text/plain": [
       "_merge\n",
       "both          32404859\n",
       "left_only            0\n",
       "right_only           0\n",
       "Name: count, dtype: int64"
      ]
     },
     "execution_count": 61,
     "metadata": {},
     "output_type": "execute_result"
    }
   ],
   "source": [
    "# Checking number of merged rows\n",
    "ords_prods_customers['_merge'].value_counts(dropna=False)"
   ]
  },
  {
   "cell_type": "code",
   "execution_count": 62,
   "id": "463c635d",
   "metadata": {},
   "outputs": [
    {
     "name": "stdout",
     "output_type": "stream",
     "text": [
      "<class 'pandas.core.frame.DataFrame'>\n",
      "RangeIndex: 32404859 entries, 0 to 32404858\n",
      "Data columns (total 34 columns):\n",
      " #   Column                  Dtype   \n",
      "---  ------                  -----   \n",
      " 0   product_id              int32   \n",
      " 1   product_name            object  \n",
      " 2   aisle_id                int32   \n",
      " 3   department_id           int32   \n",
      " 4   prices                  float64 \n",
      " 5   order_id                float64 \n",
      " 6   user_id                 float64 \n",
      " 7   order_number            float64 \n",
      " 8   orders_day_of_week      float64 \n",
      " 9   order_hour_of_day       float64 \n",
      " 10  days_since_prior_order  float64 \n",
      " 11  new_customer            object  \n",
      " 12  add_to_cart_order       float64 \n",
      " 13  reordered               float64 \n",
      " 14  _merge                  category\n",
      " 15  price_range_loc         object  \n",
      " 16  busiest_day             object  \n",
      " 17  busiest_days            object  \n",
      " 18  busiest_hours           object  \n",
      " 19  max_order               float64 \n",
      " 20  loyalty_flag            object  \n",
      " 21  mean_price              float64 \n",
      " 22  spendings               object  \n",
      " 23  frequency_median        float64 \n",
      " 24  order_frequency         object  \n",
      " 25  first_name              object  \n",
      " 26  last_name               object  \n",
      " 27  gender                  object  \n",
      " 28  state                   object  \n",
      " 29  age                     int64   \n",
      " 30  date_joined             object  \n",
      " 31  n_dependants            int64   \n",
      " 32  fam_status              object  \n",
      " 33  income                  int64   \n",
      "dtypes: category(1), float64(12), int32(3), int64(3), object(15)\n",
      "memory usage: 7.6+ GB\n"
     ]
    }
   ],
   "source": [
    "# Checking merged data frames info\n",
    "ords_prods_customers.info()\n"
   ]
  },
  {
   "cell_type": "code",
   "execution_count": 63,
   "id": "a434cb01",
   "metadata": {},
   "outputs": [],
   "source": [
    "# dropping the _merge column\n",
    "ords_prods_customers.drop(columns=['_merge'], inplace=True)"
   ]
  },
  {
   "cell_type": "markdown",
   "id": "2dc0e431",
   "metadata": {},
   "source": [
    "## 05 Export merged data frame"
   ]
  },
  {
   "cell_type": "code",
   "execution_count": 64,
   "id": "c3ecbd6a",
   "metadata": {},
   "outputs": [],
   "source": [
    "# save the merged dataframe as a pickle\n",
    "ords_prods_customers.to_pickle(os.path.join(path, '02 Data', 'Prepared Data', 'ords_prods_customers.pkl'))"
   ]
  },
  {
   "cell_type": "code",
   "execution_count": null,
   "id": "d7fe58b1",
   "metadata": {},
   "outputs": [],
   "source": []
  }
 ],
 "metadata": {
  "kernelspec": {
   "display_name": "Python 3 (ipykernel)",
   "language": "python",
   "name": "python3"
  },
  "language_info": {
   "codemirror_mode": {
    "name": "ipython",
    "version": 3
   },
   "file_extension": ".py",
   "mimetype": "text/x-python",
   "name": "python",
   "nbconvert_exporter": "python",
   "pygments_lexer": "ipython3",
   "version": "3.11.4"
  }
 },
 "nbformat": 4,
 "nbformat_minor": 5
}
